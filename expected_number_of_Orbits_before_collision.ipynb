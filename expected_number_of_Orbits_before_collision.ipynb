{
 "cells": [
  {
   "cell_type": "code",
   "execution_count": 1,
   "id": "7dececf0",
   "metadata": {},
   "outputs": [
    {
     "name": "stdout",
     "output_type": "stream",
     "text": [
      "5668.31775008775\n"
     ]
    }
   ],
   "source": [
    "import scipy.integrate as integrate\n",
    "import numpy as np\n",
    "import matplotlib.pyplot as plt\n",
    "\n",
    "#-------------- Legend ---------------\n",
    "\n",
    "sigma_xs = np.arange(1,10,0.5)\n",
    "sigma_zs = np.arange(1,10,0.5)\n",
    "sigma_x = 3.\n",
    "sigma_z = 3.\n",
    "phi = np.pi/2.\n",
    "x_e = 0.584\n",
    "x_es = np.linspace(0, 21.5, 500)\n",
    "r_a = 0.01\n",
    "r_as = np.linspace(0.01, 0.2, 6)\n",
    "r_lower = 0\n",
    "r_upper = r_a\n",
    "theta_lower = 0\n",
    "theta_upper = 2*np.pi\n",
    "\n",
    "prefactor = 0.\n",
    "\n",
    "earth_r = 6371\n",
    "orbit_height = 500\n",
    "orbit_r = (earth_r + orbit_height)*10**3\n",
    "G = 6.67408 * 10**-11  # Gravitational constant\n",
    "M = 5.972 * 10**24     # Mass of the Earth\n",
    "T = np.sqrt(4*np.pi**2 * orbit_r**3 / (G*M)) # orbit period\n",
    "N = 1000 # number of satellites in the cluster\n",
    "S = 2*np.pi*orbit_r / N  # spacing between the satellites in the cluster\n",
    "\n",
    "#-------------------------------------\n",
    "\n",
    "print(T)\n",
    "\n",
    "def P(r,theta):\n",
    "  \n",
    "  return r * np.exp(-0.5*r**2 * ((np.sin(theta) / sigma_x)**2 + (np.cos(theta) / sigma_z)**2 ) + r*x_e * ( (np.sin(phi) * np.sin(theta)/ sigma_x**2) + (np.cos(phi) * np.cos(theta) / sigma_z**2) ) )\n",
    "  \n",
    "    \n",
    "    \n",
    "def prob_collision(xe,phi):\n",
    "\n",
    "    prefactor = np.exp(-0.5 * x_e**2 * ( (np.sin(phi) / sigma_x)**2 + (np.cos(phi) / sigma_z)**2 ) )/(2*np.pi * sigma_x * sigma_z)\n",
    "    temp = prefactor * integrate.dblquad(P, r_lower, r_a, theta_lower, theta_upper)[0]\n",
    "    return temp"
   ]
  },
  {
   "cell_type": "code",
   "execution_count": 2,
   "id": "90e173bb",
   "metadata": {},
   "outputs": [],
   "source": [
    "def probability_col_N_iters(Xe_init, phi_init, N):  # expected values of closest distance and angle between the two satellites\n",
    "    Xe = Xe_init\n",
    "    phi = phi_init\n",
    "    p_sur_N  = 1\n",
    "    sigma_Xe = 0.550\n",
    "    sigma_phi= np.pi*5/180 # radians\n",
    "    for i in range(1,2*N+1):  # where N is the number of orbits (2 crossing points for each)\n",
    "        p_col = prob_collision(Xe,phi)\n",
    "        p_sur = 1 - p_col\n",
    "        p_sur_N = p_sur_N * p_sur\n",
    "        Xe = np.random.normal(Xe_init,sigma_Xe)\n",
    "        phi = np.random.normal(phi_init,sigma_phi)\n",
    "        \n",
    "    return p_sur_N\n"
   ]
  },
  {
   "cell_type": "code",
   "execution_count": 3,
   "id": "71c35718",
   "metadata": {},
   "outputs": [],
   "source": [
    "def exp_num_orb_bef_crash(Xe_init, phi_init, Nmax):  # Expected number of Orbits before crash \n",
    "    Xe = Xe_init\n",
    "    phi = phi_init\n",
    "    p_sur_N  = 1\n",
    "    sigma_Xe = 0.550\n",
    "    sigma_phi= np.pi*5/180 # radians\n",
    "    summ = 0\n",
    "    for i in range(1,2*Nmax+1):  # where N is the number of orbits (2 crossing points for each)\n",
    "        p_col = prob_collision(Xe,phi)\n",
    "        summ = summ + i * p_col * p_sur_N\n",
    "        p_sur = 1 - p_col\n",
    "        p_sur_N = p_sur_N * p_sur\n",
    "        Xe = np.random.normal(Xe_init,sigma_Xe)\n",
    "        phi = np.random.normal(phi_init,sigma_phi)\n",
    "    return summ"
   ]
  },
  {
   "cell_type": "code",
   "execution_count": 5,
   "id": "a1a79b40",
   "metadata": {},
   "outputs": [
    {
     "data": {
      "text/plain": [
       "23.26743201544942"
      ]
     },
     "execution_count": 5,
     "metadata": {},
     "output_type": "execute_result"
    }
   ],
   "source": [
    "exp_num_orb_bef_crash(x_e,phi,100)"
   ]
  },
  {
   "cell_type": "code",
   "execution_count": 6,
   "id": "13986d2c",
   "metadata": {},
   "outputs": [
    {
     "data": {
      "text/plain": [
       "551.1973181569679"
      ]
     },
     "execution_count": 6,
     "metadata": {},
     "output_type": "execute_result"
    }
   ],
   "source": [
    "exp_num_orb_bef_crash(x_e,phi,1000)"
   ]
  },
  {
   "cell_type": "code",
   "execution_count": null,
   "id": "6e2b5090",
   "metadata": {},
   "outputs": [],
   "source": []
  },
  {
   "cell_type": "code",
   "execution_count": null,
   "id": "c728ab4f",
   "metadata": {},
   "outputs": [],
   "source": []
  }
 ],
 "metadata": {
  "kernelspec": {
   "display_name": "Python 3",
   "language": "python",
   "name": "python3"
  },
  "language_info": {
   "codemirror_mode": {
    "name": "ipython",
    "version": 3
   },
   "file_extension": ".py",
   "mimetype": "text/x-python",
   "name": "python",
   "nbconvert_exporter": "python",
   "pygments_lexer": "ipython3",
   "version": "3.8.8"
  }
 },
 "nbformat": 4,
 "nbformat_minor": 5
}
